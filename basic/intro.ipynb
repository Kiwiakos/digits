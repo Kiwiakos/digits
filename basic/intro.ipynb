{
 "cells": [
  {
   "cell_type": "code",
   "execution_count": 320,
   "metadata": {},
   "outputs": [],
   "source": [
    "import numpy as np\n",
    "from matplotlib.axes import Axes\n",
    "from matplotlib import pyplot as plt"
   ]
  },
  {
   "cell_type": "markdown",
   "metadata": {},
   "source": [
    "A typical scientific calculator displays numbers in 7x5 pixel grids, which we can represent as a matrix. It is easy to see the matrices below that display the numbers 0, 1, 2, ... 9. In these matrices a value of 0 means that the corresponding pixel is 'off'. A value of 1 means that the pixel is 'on'."
   ]
  },
  {
   "cell_type": "code",
   "execution_count": 321,
   "metadata": {},
   "outputs": [],
   "source": [
    "m0 = np.array([\n",
    "    [0, 1, 1, 1, 0],\n",
    "    [1, 0, 0, 1, 1],\n",
    "    [1, 0, 1, 0, 1],\n",
    "    [1, 1, 0, 0, 1],\n",
    "    [1, 0, 0, 0, 1],\n",
    "    [1, 0, 0, 0, 1],\n",
    "    [0, 1, 1, 1, 0],\n",
    "])\n",
    "m1 = np.array([\n",
    "    [0, 0, 0, 1, 0],\n",
    "    [0, 0, 1, 1, 0],\n",
    "    [0, 1, 0, 1, 0],\n",
    "    [0, 0, 0, 1, 0],\n",
    "    [0, 0, 0, 1, 0],\n",
    "    [0, 0, 0, 1, 0],\n",
    "    [0, 0, 0, 1, 0],\n",
    "])\n",
    "m2 = np.array([\n",
    "    [0, 1, 1, 1, 0],\n",
    "    [1, 0, 0, 0, 1],\n",
    "    [0, 0, 0, 0, 1],\n",
    "    [0, 0, 0, 1, 0],\n",
    "    [0, 0, 1, 0, 0],\n",
    "    [0, 1, 0, 0, 0],\n",
    "    [1, 1, 1, 1, 1],\n",
    "])\n",
    "m3 = np.array([\n",
    "    [0, 1, 1, 1, 0],\n",
    "    [1, 0, 0, 0, 1],\n",
    "    [0, 0, 0, 0, 1],\n",
    "    [0, 0, 1, 1, 0],\n",
    "    [0, 0, 0, 0, 1],\n",
    "    [1, 0, 0, 0, 1],\n",
    "    [0, 1, 1, 1, 0],\n",
    "])\n",
    "m4 = np.array([\n",
    "    [0, 0, 0, 1, 0],\n",
    "    [0, 0, 1, 1, 0],\n",
    "    [0, 1, 0, 1, 0],\n",
    "    [1, 0, 0, 1, 0],\n",
    "    [1, 1, 1, 1, 1],\n",
    "    [0, 0, 0, 1, 0],\n",
    "    [0, 0, 0, 1, 0],\n",
    "])\n",
    "m5 = np.array([\n",
    "    [1, 1, 1, 1, 1],\n",
    "    [1, 0, 0, 0, 0],\n",
    "    [1, 1, 1, 1, 0],\n",
    "    [0, 0, 0, 0, 1],\n",
    "    [0, 0, 0, 0, 1],\n",
    "    [1, 0, 0, 0, 1],\n",
    "    [0, 1, 1, 1, 0],\n",
    "])\n",
    "m6 = np.array([\n",
    "    [0, 1, 1, 1, 0],\n",
    "    [1, 0, 0, 0, 1],\n",
    "    [1, 0, 0, 0, 0],\n",
    "    [1, 1, 1, 1, 0],\n",
    "    [1, 0, 0, 0, 1],\n",
    "    [1, 0, 0, 0, 1],\n",
    "    [0, 1, 1, 1, 0],\n",
    "])\n",
    "m7 = np.array([\n",
    "    [1, 1, 1, 1, 1],\n",
    "    [0, 0, 0, 0, 1],\n",
    "    [0, 0, 0, 1, 0],\n",
    "    [0, 0, 1, 0, 0],\n",
    "    [0, 1, 0, 0, 0],\n",
    "    [0, 1, 0, 0, 0],\n",
    "    [0, 1, 0, 0, 0],\n",
    "])\n",
    "m8 = np.array([\n",
    "    [0, 1, 1, 1, 0],\n",
    "    [1, 0, 0, 0, 1],\n",
    "    [1, 0, 0, 0, 1],\n",
    "    [0, 1, 1, 1, 0],\n",
    "    [1, 0, 0, 0, 1],\n",
    "    [1, 0, 0, 0, 1],\n",
    "    [0, 1, 1, 1, 0],\n",
    "])\n",
    "m9 = np.array([\n",
    "    [0, 1, 1, 1, 0],\n",
    "    [1, 0, 0, 0, 1],\n",
    "    [1, 0, 0, 0, 1],\n",
    "    [0, 1, 1, 1, 1],\n",
    "    [0, 0, 0, 0, 1],\n",
    "    [1, 0, 0, 0, 1],\n",
    "    [0, 1, 1, 1, 0],\n",
    "])"
   ]
  },
  {
   "cell_type": "markdown",
   "metadata": {},
   "source": [
    "It is easy to visualize these matrices. A matrix is just a 2D display of numbers, which makes it straighforward to present as a grid. We write a little python function `show_number` which takes a 'set of axes' that will be used for the diplay, and the matrix to be displayed. The function `imshow` does the actual dispaying, the remaining instructions just makes it look prettier, with gridlines etc. We then setup a display of 10 axes in a figure and print the matrices."
   ]
  },
  {
   "cell_type": "code",
   "execution_count": 322,
   "metadata": {},
   "outputs": [
    {
     "data": {
      "image/png": "[encoded data removed]",
      "text/plain": [
       "<Figure size 640x480 with 10 Axes>"
      ]
     },
     "metadata": {},
     "output_type": "display_data"
    }
   ],
   "source": [
    "def show_number(ax: Axes, m: np.array):\n",
    "    ax.imshow(m, cmap='Greys')\n",
    "    ax.grid()\n",
    "    ax.set_xticks(np.linspace(-0.5, 4.5, 6))\n",
    "    ax.set_xticklabels([])\n",
    "    ax.set_yticks(np.linspace(-0.5, 6.5, 8))\n",
    "    ax.set_yticklabels([])\n",
    "    \n",
    "fg, ax = plt.subplots(2, 5, sharex=True, sharey=True)\n",
    "show_number(ax[0,0], m1)\n",
    "show_number(ax[0,1], m2)\n",
    "show_number(ax[0,2], m3)\n",
    "show_number(ax[0,3], m4)\n",
    "show_number(ax[0,4], m5)\n",
    "show_number(ax[1,0], m6)\n",
    "show_number(ax[1,1], m7)\n",
    "show_number(ax[1,2], m8)\n",
    "show_number(ax[1,3], m9)\n",
    "show_number(ax[1,4], m0)\n"
   ]
  },
  {
   "cell_type": "markdown",
   "metadata": {},
   "source": [
    "Having the data in matrix form is important for us humans to understand and visualise, but for the computer we can `flatten` the 2D matrix into an 1D vector by lining up the rows one after the other. This is how the matrix for number 1 look like when flattened in that way."
   ]
  },
  {
   "cell_type": "code",
   "execution_count": 4,
   "metadata": {},
   "outputs": [
    {
     "data": {
      "text/plain": [
       "array([0, 0, 0, 1, 0, 0, 0, 1, 1, 0, 0, 1, 0, 1, 0, 0, 0, 0, 1, 0, 0, 0,\n",
       "       0, 1, 0, 0, 0, 0, 1, 0, 0, 0, 0, 1, 0])"
      ]
     },
     "execution_count": 4,
     "metadata": {},
     "output_type": "execute_result"
    }
   ],
   "source": [
    "m1.flatten()"
   ]
  },
  {
   "cell_type": "markdown",
   "metadata": {},
   "source": [
    "If we do that to all numbers we can view them as 'strips'. The little function `show_stacked_number` does exactly that for a set of axes and a matrix. The 7x5 matrix is transformed into an array of 35 elements."
   ]
  },
  {
   "cell_type": "code",
   "execution_count": 5,
   "metadata": {},
   "outputs": [
    {
     "data": {
      "image/png": "[encoded data removed]",
      "text/plain": [
       "<Figure size 640x480 with 10 Axes>"
      ]
     },
     "metadata": {},
     "output_type": "display_data"
    }
   ],
   "source": [
    "def show_stacked_number(ax: Axes, m: np.ndarray):\n",
    "    ax.imshow(np.atleast_2d(m.flatten()), cmap='Greys')\n",
    "    ax.grid()\n",
    "    ax.set_xticks(np.linspace(-0.5, 34.5, 36))\n",
    "    ax.set_xticklabels([])\n",
    "    ax.set_yticks(np.linspace(-0.5, 0.5, 2))\n",
    "    ax.set_yticklabels([])\n",
    "    \n",
    "fg, ax = plt.subplots(10, 1, sharex=True, sharey=True)\n",
    "show_stacked_number(ax[0], m1)\n",
    "show_stacked_number(ax[1], m2)\n",
    "show_stacked_number(ax[2], m3)\n",
    "show_stacked_number(ax[3], m4)\n",
    "show_stacked_number(ax[4], m5)\n",
    "show_stacked_number(ax[5], m6)\n",
    "show_stacked_number(ax[6], m7)\n",
    "show_stacked_number(ax[7], m8)\n",
    "show_stacked_number(ax[8], m9)\n",
    "show_stacked_number(ax[9], m0)\n"
   ]
  },
  {
   "cell_type": "markdown",
   "metadata": {},
   "source": [
    "In the new world of artificial intelligence the computer 'learns' by viewing labeled examples. We present the computer 1,000 strips that look like the first strip and tell the computer that these are labelled '1', another 1,000 strips that look like the second and labelled '2', and so on. The computer tries to find out the similarities and differences of the various strips, as they correspond to different labels. Some pixels might turn out to be rather important to differentiate which is which, some other pixels might not have that much information to give."
   ]
  },
  {
   "cell_type": "markdown",
   "metadata": {},
   "source": [
    "When we view the matrices as strips, we can make some intersting observations:\n",
    "* If we look at the strips for numbers 3, 6, 8, 9 and 0, we can spot some significant overlap. The start and end of the strips are identical, which means that these numbers can only be differentiated by the middle part of the strip.\n",
    "* There are some pixels that are on for all numbers (for example the fourth pixel) and some pixels that are always off (for example the seventh). These pixels have no information whatsoever to differentiate between numbers.\n",
    "* There are cases where a pixel is 'on' for only one number: for example the very last pixel is only active for number 2. This pixel should be a significant differentiator."
   ]
  },
  {
   "cell_type": "code",
   "execution_count": 352,
   "metadata": {},
   "outputs": [],
   "source": [
    "data_map = {\n",
    "    1: m1.flatten(), \n",
    "    2: m2.flatten(),\n",
    "    3: m3.flatten(),\n",
    "    4: m4.flatten(),\n",
    "    5: m5.flatten(),\n",
    "    6: m6.flatten(),\n",
    "    7: m7.flatten(),\n",
    "    8: m8.flatten(),\n",
    "    9: m9.flatten(),\n",
    "    0: m0.flatten(),\n",
    "}\n",
    "sample = np.random.choice(10, size=(10000,))\n",
    "noise = np.random.normal(0, 0.1, size=(sample.shape[0], 35))\n",
    "X = np.array([data_map[s] for s in sample])\n",
    "X = X + noise\n",
    "basis = np.eye(10)\n",
    "Y = np.array([basis[s] for s in sample])"
   ]
  },
  {
   "cell_type": "code",
   "execution_count": 353,
   "metadata": {},
   "outputs": [
    {
     "name": "stdout",
     "output_type": "stream",
     "text": [
      "9\n",
      "[0. 0. 0. 0. 0. 0. 0. 0. 0. 1.]\n",
      "[ 0.03021027  1.02526575  0.92048862  0.96718254 -0.01302191  0.83444686\n",
      "  0.12777089  0.0340305   0.07140096  1.04100223  1.08063108 -0.09389582\n",
      " -0.11648425  0.04254199  1.1118899   0.07655704  1.02407258  1.1679871\n",
      "  1.03462212  1.04321296  0.02948839 -0.17905402 -0.08837278 -0.05897415\n",
      "  1.0517085   0.9779677  -0.14321873  0.05394896 -0.06726419  0.91393967\n",
      " -0.13385172  0.96241468  0.99311574  1.13564117 -0.04215922]\n"
     ]
    }
   ],
   "source": [
    "print(sample[99])\n",
    "print(Y[99])\n",
    "print(X[99])"
   ]
  },
  {
   "cell_type": "code",
   "execution_count": 354,
   "metadata": {},
   "outputs": [],
   "source": [
    "from keras.api.models import Sequential\n",
    "from keras.api.layers import Dense\n",
    "from keras.api.initializers import Constant"
   ]
  },
  {
   "cell_type": "code",
   "execution_count": 359,
   "metadata": {},
   "outputs": [
    {
     "data": {
      "text/html": [
       "<pre style=\"white-space:pre;overflow-x:auto;line-height:normal;font-family:Menlo,'DejaVu Sans Mono',consolas,'Courier New',monospace\"><span style=\"font-weight: bold\">Model: \"sequential_30\"</span>\n",
       "</pre>\n"
      ],
      "text/plain": [
       "\u001b[1mModel: \"sequential_30\"\u001b[0m\n"
      ]
     },
     "metadata": {},
     "output_type": "display_data"
    },
    {
     "data": {
      "text/html": [
       "<pre style=\"white-space:pre;overflow-x:auto;line-height:normal;font-family:Menlo,'DejaVu Sans Mono',consolas,'Courier New',monospace\">┏━━━━━━━━━━━━━━━━━━━━━━━━━━━━━━━━━┳━━━━━━━━━━━━━━━━━━━━━━━━┳━━━━━━━━━━━━━━━┓\n",
       "┃<span style=\"font-weight: bold\"> Layer (type)                    </span>┃<span style=\"font-weight: bold\"> Output Shape           </span>┃<span style=\"font-weight: bold\">       Param # </span>┃\n",
       "┡━━━━━━━━━━━━━━━━━━━━━━━━━━━━━━━━━╇━━━━━━━━━━━━━━━━━━━━━━━━╇━━━━━━━━━━━━━━━┩\n",
       "│ dense_35 (<span style=\"color: #0087ff; text-decoration-color: #0087ff\">Dense</span>)                │ (<span style=\"color: #00af00; text-decoration-color: #00af00\">1</span>, <span style=\"color: #00af00; text-decoration-color: #00af00\">10</span>)                │           <span style=\"color: #00af00; text-decoration-color: #00af00\">350</span> │\n",
       "└─────────────────────────────────┴────────────────────────┴───────────────┘\n",
       "</pre>\n"
      ],
      "text/plain": [
       "┏━━━━━━━━━━━━━━━━━━━━━━━━━━━━━━━━━┳━━━━━━━━━━━━━━━━━━━━━━━━┳━━━━━━━━━━━━━━━┓\n",
       "┃\u001b[1m \u001b[0m\u001b[1mLayer (type)                   \u001b[0m\u001b[1m \u001b[0m┃\u001b[1m \u001b[0m\u001b[1mOutput Shape          \u001b[0m\u001b[1m \u001b[0m┃\u001b[1m \u001b[0m\u001b[1m      Param #\u001b[0m\u001b[1m \u001b[0m┃\n",
       "┡━━━━━━━━━━━━━━━━━━━━━━━━━━━━━━━━━╇━━━━━━━━━━━━━━━━━━━━━━━━╇━━━━━━━━━━━━━━━┩\n",
       "│ dense_35 (\u001b[38;5;33mDense\u001b[0m)                │ (\u001b[38;5;34m1\u001b[0m, \u001b[38;5;34m10\u001b[0m)                │           \u001b[38;5;34m350\u001b[0m │\n",
       "└─────────────────────────────────┴────────────────────────┴───────────────┘\n"
      ]
     },
     "metadata": {},
     "output_type": "display_data"
    },
    {
     "data": {
      "text/html": [
       "<pre style=\"white-space:pre;overflow-x:auto;line-height:normal;font-family:Menlo,'DejaVu Sans Mono',consolas,'Courier New',monospace\"><span style=\"font-weight: bold\"> Total params: </span><span style=\"color: #00af00; text-decoration-color: #00af00\">350</span> (1.37 KB)\n",
       "</pre>\n"
      ],
      "text/plain": [
       "\u001b[1m Total params: \u001b[0m\u001b[38;5;34m350\u001b[0m (1.37 KB)\n"
      ]
     },
     "metadata": {},
     "output_type": "display_data"
    },
    {
     "data": {
      "text/html": [
       "<pre style=\"white-space:pre;overflow-x:auto;line-height:normal;font-family:Menlo,'DejaVu Sans Mono',consolas,'Courier New',monospace\"><span style=\"font-weight: bold\"> Trainable params: </span><span style=\"color: #00af00; text-decoration-color: #00af00\">350</span> (1.37 KB)\n",
       "</pre>\n"
      ],
      "text/plain": [
       "\u001b[1m Trainable params: \u001b[0m\u001b[38;5;34m350\u001b[0m (1.37 KB)\n"
      ]
     },
     "metadata": {},
     "output_type": "display_data"
    },
    {
     "data": {
      "text/html": [
       "<pre style=\"white-space:pre;overflow-x:auto;line-height:normal;font-family:Menlo,'DejaVu Sans Mono',consolas,'Courier New',monospace\"><span style=\"font-weight: bold\"> Non-trainable params: </span><span style=\"color: #00af00; text-decoration-color: #00af00\">0</span> (0.00 B)\n",
       "</pre>\n"
      ],
      "text/plain": [
       "\u001b[1m Non-trainable params: \u001b[0m\u001b[38;5;34m0\u001b[0m (0.00 B)\n"
      ]
     },
     "metadata": {},
     "output_type": "display_data"
    }
   ],
   "source": [
    "model = Sequential()\n",
    "model.add(Dense(units=10, activation='softmax', kernel_initializer='zeros', use_bias=False))\n",
    "model.build(input_shape=(1, 35))\n",
    "model.summary()"
   ]
  },
  {
   "cell_type": "code",
   "execution_count": 360,
   "metadata": {},
   "outputs": [
    {
     "name": "stdout",
     "output_type": "stream",
     "text": [
      "Epoch 1/5\n",
      "\u001b[1m20/20\u001b[0m \u001b[32m━━━━━━━━━━━━━━━━━━━━\u001b[0m\u001b[37m\u001b[0m \u001b[1m0s\u001b[0m 3ms/step - accuracy: 0.6752 - loss: 2.2455  \n",
      "Epoch 2/5\n",
      "\u001b[1m20/20\u001b[0m \u001b[32m━━━━━━━━━━━━━━━━━━━━\u001b[0m\u001b[37m\u001b[0m \u001b[1m0s\u001b[0m 3ms/step - accuracy: 0.8433 - loss: 2.0286 \n",
      "Epoch 3/5\n",
      "\u001b[1m20/20\u001b[0m \u001b[32m━━━━━━━━━━━━━━━━━━━━\u001b[0m\u001b[37m\u001b[0m \u001b[1m0s\u001b[0m 3ms/step - accuracy: 0.9372 - loss: 1.8361 \n",
      "Epoch 4/5\n",
      "\u001b[1m20/20\u001b[0m \u001b[32m━━━━━━━━━━━━━━━━━━━━\u001b[0m\u001b[37m\u001b[0m \u001b[1m0s\u001b[0m 3ms/step - accuracy: 0.9895 - loss: 1.6624 \n",
      "Epoch 5/5\n",
      "\u001b[1m20/20\u001b[0m \u001b[32m━━━━━━━━━━━━━━━━━━━━\u001b[0m\u001b[37m\u001b[0m \u001b[1m0s\u001b[0m 3ms/step - accuracy: 0.9972 - loss: 1.5161 \n"
     ]
    },
    {
     "data": {
      "text/plain": [
       "<keras.src.callbacks.history.History at 0x7ead772d2da0>"
      ]
     },
     "execution_count": 360,
     "metadata": {},
     "output_type": "execute_result"
    }
   ],
   "source": [
    "model.compile(optimizer='adam', loss='categorical_crossentropy', metrics=['accuracy'])\n",
    "model.fit(x=X, y=Y, batch_size=500, epochs=5)"
   ]
  },
  {
   "cell_type": "code",
   "execution_count": 361,
   "metadata": {},
   "outputs": [
    {
     "data": {
      "text/plain": [
       "<matplotlib.image.AxesImage at 0x7ead76fbfcd0>"
      ]
     },
     "execution_count": 361,
     "metadata": {},
     "output_type": "execute_result"
    },
    {
     "data": {
      "image/png": "[encoded data removed]",
      "text/plain": [
       "<Figure size 640x480 with 1 Axes>"
      ]
     },
     "metadata": {},
     "output_type": "display_data"
    }
   ],
   "source": [
    "W = model.layers[0].get_weights()[0].T\n",
    "plt.imshow(W, cmap='Greys')"
   ]
  },
  {
   "cell_type": "code",
   "execution_count": null,
   "metadata": {},
   "outputs": [
    {
     "name": "stdout",
     "output_type": "stream",
     "text": [
      "\u001b[1m1/1\u001b[0m \u001b[32m━━━━━━━━━━━━━━━━━━━━\u001b[0m\u001b[37m\u001b[0m \u001b[1m0s\u001b[0m 53ms/step\n",
      "\u001b[1m1/1\u001b[0m \u001b[32m━━━━━━━━━━━━━━━━━━━━\u001b[0m\u001b[37m\u001b[0m \u001b[1m0s\u001b[0m 38ms/step\n",
      "\u001b[1m1/1\u001b[0m \u001b[32m━━━━━━━━━━━━━━━━━━━━\u001b[0m\u001b[37m\u001b[0m \u001b[1m0s\u001b[0m 38ms/step\n",
      "\u001b[1m1/1\u001b[0m \u001b[32m━━━━━━━━━━━━━━━━━━━━\u001b[0m\u001b[37m\u001b[0m \u001b[1m0s\u001b[0m 39ms/step\n",
      "\u001b[1m1/1\u001b[0m \u001b[32m━━━━━━━━━━━━━━━━━━━━\u001b[0m\u001b[37m\u001b[0m \u001b[1m0s\u001b[0m 38ms/step\n",
      "\u001b[1m1/1\u001b[0m \u001b[32m━━━━━━━━━━━━━━━━━━━━\u001b[0m\u001b[37m\u001b[0m \u001b[1m0s\u001b[0m 39ms/step\n",
      "\u001b[1m1/1\u001b[0m \u001b[32m━━━━━━━━━━━━━━━━━━━━\u001b[0m\u001b[37m\u001b[0m \u001b[1m0s\u001b[0m 38ms/step\n",
      "\u001b[1m1/1\u001b[0m \u001b[32m━━━━━━━━━━━━━━━━━━━━\u001b[0m\u001b[37m\u001b[0m \u001b[1m0s\u001b[0m 38ms/step\n",
      "\u001b[1m1/1\u001b[0m \u001b[32m━━━━━━━━━━━━━━━━━━━━\u001b[0m\u001b[37m\u001b[0m \u001b[1m0s\u001b[0m 39ms/step\n",
      "\u001b[1m1/1\u001b[0m \u001b[32m━━━━━━━━━━━━━━━━━━━━\u001b[0m\u001b[37m\u001b[0m \u001b[1m0s\u001b[0m 39ms/step\n"
     ]
    },
    {
     "data": {
      "image/png": "[encoded data removed]",
      "text/plain": [
       "<Figure size 900x600 with 30 Axes>"
      ]
     },
     "metadata": {},
     "output_type": "display_data"
    }
   ],
   "source": [
    "def show_fitted(ax: list[Axes], j: int):\n",
    "    ax[0].imshow(data_map[j].reshape((7, 5)), cmap='Greys')\n",
    "    ax[0].set_xticks([])\n",
    "    ax[0].set_yticks([])\n",
    "    ax[1].imshow(W[j, :].reshape((7, 5)), cmap='Greys')\n",
    "    ax[1].set_xticks([])\n",
    "    ax[1].set_yticks([])\n",
    "    ax[2].bar(range(10), model.predict(np.array([data_map[j]]))[0])\n",
    "    ax[2].grid()\n",
    "    ax[2].set_xticks(np.linspace(-0.5, 9.5, 11))\n",
    "    ax[2].set_xticklabels([])\n",
    "    ax[2].set_yticks(np.linspace(0, 1, 5))\n",
    "    ax[2].set_yticklabels([])\n",
    "\n",
    "fg, ax = plt.subplots(10, 3, width_ratios=[1, 1, 11], figsize=(9,6))\n",
    "for j in range(10):\n",
    "    show_fitted(ax[j, :], j)"
   ]
  },
  {
   "cell_type": "code",
   "execution_count": null,
   "metadata": {},
   "outputs": [],
   "source": []
  }
 ],
 "metadata": {
  "kernelspec": {
   "display_name": "digits",
   "language": "python",
   "name": "python3"
  },
  "language_info": {
   "codemirror_mode": {
    "name": "ipython",
    "version": 3
   },
   "file_extension": ".py",
   "mimetype": "text/x-python",
   "name": "python",
   "nbconvert_exporter": "python",
   "pygments_lexer": "ipython3",
   "version": "3.10.16"
  }
 },
 "nbformat": 4,
 "nbformat_minor": 2
}
