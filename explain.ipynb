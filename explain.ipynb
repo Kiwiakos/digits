{
 "cells": [
  {
   "cell_type": "code",
   "execution_count": 1,
   "metadata": {},
   "outputs": [
    {
     "name": "stderr",
     "output_type": "stream",
     "text": [
      "2023-12-08 16:37:02.121912: I tensorflow/core/platform/cpu_feature_guard.cc:182] This TensorFlow binary is optimized to use available CPU instructions in performance-critical operations.\n",
      "To enable the following instructions: SSE4.1 SSE4.2 AVX, in other operations, rebuild TensorFlow with the appropriate compiler flags.\n"
     ]
    }
   ],
   "source": [
    "from keras.models import load_model\n",
    "\n",
    "import numpy as np\n",
    "from matplotlib import pyplot as plt\n",
    "from matplotlib.image import imread"
   ]
  },
  {
   "cell_type": "code",
   "execution_count": 2,
   "metadata": {},
   "outputs": [
    {
     "data": {
      "text/plain": [
       "<matplotlib.image.AxesImage at 0x7fe13c873710>"
      ]
     },
     "execution_count": 2,
     "metadata": {},
     "output_type": "execute_result"
    },
    {
     "data": {
      "image/png": "[encoded data removed]",
      "text/plain": [
       "<Figure size 640x480 with 1 Axes>"
      ]
     },
     "metadata": {},
     "output_type": "display_data"
    }
   ],
   "source": [
    "my_num = imread(\"static/img28.png\")\n",
    "my_num = 1.0 - my_num\n",
    "plt.imshow(my_num, cmap='Greys')"
   ]
  },
  {
   "cell_type": "code",
   "execution_count": 3,
   "metadata": {},
   "outputs": [
    {
     "name": "stderr",
     "output_type": "stream",
     "text": [
      "2023-12-08 16:37:05.327783: I tensorflow/core/common_runtime/process_util.cc:146] Creating new thread pool with default inter op setting: 2. Tune using inter_op_parallelism_threads for best performance.\n"
     ]
    }
   ],
   "source": [
    "mdl = load_model('mnist3.mdl')"
   ]
  },
  {
   "cell_type": "code",
   "execution_count": 64,
   "metadata": {},
   "outputs": [],
   "source": [
    "l = mdl.layers[0]\n",
    "w = l.weights[0].numpy().squeeze()\n",
    "b = l.weights[1].numpy().squeeze()\n",
    "N0, _, K0 = w.shape\n",
    "f0 = np.array([[[np.clip(np.sum(my_num[i:i+N0, j:j+N0] * w[:, :, k]) + b[k], -0, 999) for j in range(28-N0+1)] for i in range(28-N0+1)] for k in range(K0)])\n",
    "K1, N1, _ = f0.shape\n",
    "S1 = 2\n",
    "f1 = np.array([[[np.max(f0[k,i:i+S1-1,:][:,j:j+S1-1]) for j in range(0, N1-S1+1, S1)] for i in range(0, N1-S1+1, S1)]for k in range(K1)])\n",
    "K2, N2, _ = f1.shape"
   ]
  },
  {
   "cell_type": "code",
   "execution_count": 81,
   "metadata": {},
   "outputs": [],
   "source": [
    "mx = my_num.max()\n",
    "mn = my_num.min()\n",
    "fg, ax = plt.subplots()\n",
    "ax.pcolormesh(my_num[::-1, :], cmap='Reds', vmin=mn, vmax=mx)\n",
    "for i in range(29):\n",
    "    ax.plot([0, 29], [i, i], 'w') \n",
    "    ax.plot([i, i], [0, 29], 'w') \n",
    "ax.set_axis_off()\n",
    "ax.set_aspect('equal', 'box')\n",
    "fg.tight_layout()\n",
    "fg.savefig(f'static/lay{0}.png', dpi=70)\n",
    "plt.close(fg)\n",
    "\n",
    "mx = w.max()\n",
    "mn = w.min()\n",
    "for k in range(K0):\n",
    "    fg, ax = plt.subplots()\n",
    "    ax.pcolormesh(w[:, :, k], cmap='Reds', vmin=mn, vmax=mx)\n",
    "    for i in range(N0+1):\n",
    "        ax.plot([0, N0], [i, i], 'w') \n",
    "        ax.plot([i, i], [0, N0], 'w') \n",
    "    ax.set_axis_off()\n",
    "    ax.set_aspect('equal', 'box')\n",
    "    fg.tight_layout()\n",
    "    fg.savefig(f'static/lay{0}_weight{k}.png', dpi=70)\n",
    "    plt.close(fg)\n",
    "\n",
    "mx = f1.max()\n",
    "mn = f1.min()\n",
    "for k in range(K2):\n",
    "    fg, ax = plt.subplots()\n",
    "    ax.pcolormesh(f1[k, :, :], cmap='Reds', vmin=mn, vmax=mx)\n",
    "    for i in range(N2+1):\n",
    "        ax.plot([0, N2], [i, i], 'w') \n",
    "        ax.plot([i, i], [0, N2], 'w') \n",
    "    ax.set_axis_off()\n",
    "    ax.set_aspect('equal', 'box')\n",
    "    fg.tight_layout()\n",
    "    fg.savefig(f'static/lay{0}_out{k}.png', dpi=70)\n",
    "    plt.close(fg)"
   ]
  },
  {
   "cell_type": "code",
   "execution_count": 80,
   "metadata": {},
   "outputs": [
    {
     "data": {
      "text/plain": [
       "<matplotlib.image.AxesImage at 0x7fe1187c32d0>"
      ]
     },
     "execution_count": 80,
     "metadata": {},
     "output_type": "execute_result"
    },
    {
     "data": {
      "image/png": "[encoded data removed]",
      "text/plain": [
       "<Figure size 640x480 with 1 Axes>"
      ]
     },
     "metadata": {},
     "output_type": "display_data"
    },
    {
     "data": {
      "image/png": "[encoded data removed]",
      "text/plain": [
       "<Figure size 640x480 with 1 Axes>"
      ]
     },
     "metadata": {},
     "output_type": "display_data"
    }
   ],
   "source": [
    "fg, ax = plt.subplots()\n",
    "ax.pcolormesh(my_num[::-1,:], cmap='Reds', vmin=mn, vmax=mx)\n",
    "fg, ax = plt.subplots()\n",
    "ax.imshow(my_num, cmap='Reds', vmin=mn, vmax=mx)\n"
   ]
  },
  {
   "cell_type": "code",
   "execution_count": 13,
   "metadata": {},
   "outputs": [
    {
     "data": {
      "text/plain": [
       "[[0, 1, 2, 3, 4],\n",
       " [1, 2, 3, 4, 5],\n",
       " [2, 3, 4, 5, 6],\n",
       " [3, 4, 5, 6, 7],\n",
       " [4, 5, 6, 7, 8],\n",
       " [5, 6, 7, 8, 9],\n",
       " [6, 7, 8, 9, 10],\n",
       " [7, 8, 9, 10, 11],\n",
       " [8, 9, 10, 11, 12],\n",
       " [9, 10, 11, 12, 13],\n",
       " [10, 11, 12, 13, 14],\n",
       " [11, 12, 13, 14, 15],\n",
       " [12, 13, 14, 15, 16],\n",
       " [13, 14, 15, 16, 17],\n",
       " [14, 15, 16, 17, 18],\n",
       " [15, 16, 17, 18, 19],\n",
       " [16, 17, 18, 19, 20],\n",
       " [17, 18, 19, 20, 21],\n",
       " [18, 19, 20, 21, 22],\n",
       " [19, 20, 21, 22, 23],\n",
       " [20, 21, 22, 23, 24],\n",
       " [21, 22, 23, 24, 25],\n",
       " [22, 23, 24, 25, 26],\n",
       " [23, 24, 25, 26, 27],\n",
       " [24, 25, 26, 27]]"
      ]
     },
     "execution_count": 13,
     "metadata": {},
     "output_type": "execute_result"
    }
   ],
   "source": [
    "[ix[j:j+5] for j in range(30-5)]"
   ]
  },
  {
   "cell_type": "code",
   "execution_count": null,
   "metadata": {},
   "outputs": [],
   "source": []
  }
 ],
 "metadata": {
  "kernelspec": {
   "display_name": "spark",
   "language": "python",
   "name": "python3"
  },
  "language_info": {
   "codemirror_mode": {
    "name": "ipython",
    "version": 3
   },
   "file_extension": ".py",
   "mimetype": "text/x-python",
   "name": "python",
   "nbconvert_exporter": "python",
   "pygments_lexer": "ipython3",
   "version": "3.11.5"
  }
 },
 "nbformat": 4,
 "nbformat_minor": 2
}
